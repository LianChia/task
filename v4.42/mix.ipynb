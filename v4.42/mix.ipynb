{
 "cells": [
  {
   "cell_type": "code",
   "execution_count": 9,
   "metadata": {},
   "outputs": [],
   "source": [
    "import cv2\n",
    "import numpy as np\n",
    "\n",
    "# 讀取圖片\n",
    "dental_crown = cv2.imread(r\"C:\\Users\\SSTek\\Desktop\\LianChia\\0916-27\\drive-download-20240916T025718Z-001\\300\\300\\8\\dentalcrown_8.png\", cv2.IMREAD_GRAYSCALE)\n",
    "dentin = cv2.imread(r\"C:\\Users\\SSTek\\Desktop\\LianChia\\0916-27\\drive-download-20240916T025718Z-001\\300\\300\\8\\dentin_8.png\", cv2.IMREAD_GRAYSCALE)\n",
    "gum = cv2.imread(r\"C:\\Users\\SSTek\\Desktop\\LianChia\\0916-27\\drive-download-20240916T025718Z-001\\300\\300\\8\\gum_8.png\", cv2.IMREAD_GRAYSCALE)\n",
    "\n",
    "# 確認圖片大小一致，否則進行縮放處理\n",
    "height, width = dental_crown.shape\n",
    "dentin_resized = cv2.resize(dentin, (width, height))\n",
    "gum_resized = cv2.resize(gum, (width, height))\n",
    "\n",
    "# 建立一張空白的圖像，用來儲存結果\n",
    "combined_image = np.zeros((height, width), dtype=np.uint8)\n",
    "\n",
    "# 重疊圖片，按順序將牙冠、牙本質、牙齦重疊\n",
    "combined_image = cv2.bitwise_or(combined_image, dental_crown)\n",
    "combined_image = cv2.bitwise_or(combined_image, dentin_resized)\n",
    "combined_image = cv2.bitwise_or(combined_image, gum_resized)\n",
    "\n",
    "# 保存最終結果\n",
    "cv2.imwrite(r'C:\\Users\\SSTek\\Desktop\\LianChia\\task\\v4.42\\300_groundtruth\\mix_8.png', combined_image)\n",
    "\n",
    "# 顯示結果\n",
    "cv2.imshow(\"Combined Dental Image\", combined_image)\n",
    "cv2.waitKey(0)\n",
    "cv2.destroyAllWindows()\n"
   ]
  },
  {
   "cell_type": "code",
   "execution_count": 11,
   "metadata": {},
   "outputs": [],
   "source": [
    "import cv2\n",
    "import numpy as np\n",
    "\n",
    "# 讀取 crown、dental_crown、dentin、gum 圖片\n",
    "crown = cv2.imread(r\"C:\\Users\\SSTek\\Desktop\\LianChia\\0916-27\\drive-download-20240916T025718Z-001\\300\\300\\10\\crown_10.png\", cv2.IMREAD_GRAYSCALE)  # 假設您有 crown 圖片\n",
    "dental_crown = cv2.imread(r\"C:\\Users\\SSTek\\Desktop\\LianChia\\0916-27\\drive-download-20240916T025718Z-001\\300\\300\\10\\dentalcrown_10.png\", cv2.IMREAD_GRAYSCALE)\n",
    "dentin = cv2.imread(r\"C:\\Users\\SSTek\\Desktop\\LianChia\\0916-27\\drive-download-20240916T025718Z-001\\300\\300\\10\\dentin_10.png\", cv2.IMREAD_GRAYSCALE)\n",
    "gum = cv2.imread(r\"C:\\Users\\SSTek\\Desktop\\LianChia\\0916-27\\drive-download-20240916T025718Z-001\\300\\300\\10\\gum_10.png\", cv2.IMREAD_GRAYSCALE)\n",
    "\n",
    "# 確認圖片大小一致，否則進行縮放處理\n",
    "height, width = dental_crown.shape\n",
    "crown_resized = cv2.resize(crown, (width, height))  # 調整 crown 圖片大小\n",
    "dentin_resized = cv2.resize(dentin, (width, height))\n",
    "gum_resized = cv2.resize(gum, (width, height))\n",
    "\n",
    "# 建立一張空白的圖像，用來儲存結果\n",
    "combined_image = np.zeros((height, width), dtype=np.uint8)\n",
    "\n",
    "# 重疊 crown、dental_crown、dentin 和 gum\n",
    "combined_image = cv2.bitwise_or(combined_image, crown_resized)\n",
    "combined_image = cv2.bitwise_or(combined_image, dental_crown)\n",
    "combined_image = cv2.bitwise_or(combined_image, dentin_resized)\n",
    "combined_image = cv2.bitwise_or(combined_image, gum_resized)\n",
    "\n",
    "# 保存最終結果\n",
    "cv2.imwrite(r'C:\\Users\\SSTek\\Desktop\\LianChia\\task\\v4.42\\300_groundtruth\\mix_10.png', combined_image)\n",
    "\n",
    "# 顯示結果\n",
    "cv2.imshow(\"Combined Dental Image\", combined_image)\n",
    "cv2.waitKey(0)\n",
    "cv2.destroyAllWindows()\n"
   ]
  }
 ],
 "metadata": {
  "kernelspec": {
   "display_name": "base",
   "language": "python",
   "name": "python3"
  },
  "language_info": {
   "codemirror_mode": {
    "name": "ipython",
    "version": 3
   },
   "file_extension": ".py",
   "mimetype": "text/x-python",
   "name": "python",
   "nbconvert_exporter": "python",
   "pygments_lexer": "ipython3",
   "version": "3.12.4"
  }
 },
 "nbformat": 4,
 "nbformat_minor": 2
}
